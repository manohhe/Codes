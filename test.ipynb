{
 "cells": [
  {
   "cell_type": "code",
   "execution_count": 71,
   "id": "16dd29ba",
   "metadata": {},
   "outputs": [],
   "source": [
    "import openpyxl as xl"
   ]
  },
  {
   "cell_type": "code",
   "execution_count": 72,
   "id": "b830fce8",
   "metadata": {},
   "outputs": [],
   "source": [
    "path1 = 'S:\\\\can\\\\retail\\\\retail sales intelligence\\\\Wealth\\\\Reports - Scheduled\\\\2 - Monthly Reports\\\\SMA\\\\SMA Data Files\\\\2022\\\\2022-01\\\\BMO\\\\Cash_Flow_Date_crosstab (January 2022)Manulife.xlsx'"
   ]
  },
  {
   "cell_type": "code",
   "execution_count": 73,
   "id": "81dc67df",
   "metadata": {},
   "outputs": [],
   "source": [
    "wb1 = xl.load_workbook(path1)\n",
    "ws1 = wb1['BMO Flows - Jan 2022']"
   ]
  },
  {
   "cell_type": "code",
   "execution_count": 74,
   "id": "6ad65f88",
   "metadata": {},
   "outputs": [],
   "source": [
    "filename1 =\"S:\\\\can\\\\retail\\\\retail sales intelligence\\\\Wealth\\\\Reports - Scheduled\\\\2 - Monthly Reports\\\\SMA\\\\SMA Data Files\\\\SMA Reports-Python\\\\BMO Cash Flow.xlsx\"\n",
    "wb2 = xl.load_workbook(filename1)\n",
    "ws2 = wb2['BMO Flows']"
   ]
  },
  {
   "cell_type": "code",
   "execution_count": 75,
   "id": "9bf7119e",
   "metadata": {},
   "outputs": [],
   "source": [
    "mr = ws1.max_row\n",
    "mc = ws1.max_column"
   ]
  },
  {
   "cell_type": "code",
   "execution_count": 76,
   "id": "745b445a",
   "metadata": {},
   "outputs": [],
   "source": [
    "for i in range (1, mr + 1):\n",
    "    for j in range (1, mc + 1):\n",
    "        # reading cell value from source excel file\n",
    "        c = ws1.cell(row = i, column = j)\n",
    "  \n",
    "        # writing the read value to destination excel file\n",
    "        ws2.cell(row = i, column = j).value = c.value"
   ]
  },
  {
   "cell_type": "code",
   "execution_count": 77,
   "id": "cff813e8",
   "metadata": {},
   "outputs": [],
   "source": [
    "wb2.save(str(filename1))"
   ]
  },
  {
   "cell_type": "code",
   "execution_count": null,
   "id": "04dc332d",
   "metadata": {},
   "outputs": [],
   "source": [
    "January"
   ]
  }
 ],
 "metadata": {
  "kernelspec": {
   "display_name": "Python 3 (ipykernel)",
   "language": "python",
   "name": "python3"
  },
  "language_info": {
   "codemirror_mode": {
    "name": "ipython",
    "version": 3
   },
   "file_extension": ".py",
   "mimetype": "text/x-python",
   "name": "python",
   "nbconvert_exporter": "python",
   "pygments_lexer": "ipython3",
   "version": "3.9.7"
  }
 },
 "nbformat": 4,
 "nbformat_minor": 5
}
